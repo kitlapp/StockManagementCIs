{
 "cells": [
  {
   "cell_type": "markdown",
   "id": "20c5bc4d-1950-4c6a-8e97-a14ea3f0bdbc",
   "metadata": {},
   "source": [
    "# Leveraging Confidence Intervals for Effective Stock Management"
   ]
  },
  {
   "cell_type": "markdown",
   "id": "4e41092c-65e8-436d-8ea8-e7db457812a3",
   "metadata": {},
   "source": [
    "The main purpose of this project is to demonstrate a useful way confidence intervals can be effectively utilized for enhacing a company's inventory management for specific future periods. Confidence intervals are applied to the same dataset for three different future periods and the results are compared with each other. Visualizations are provided to better highlight the differences."
   ]
  },
  {
   "cell_type": "markdown",
   "id": "a1bac833-98a4-4949-861f-b7649972fdc1",
   "metadata": {},
   "source": [
    "## Environment Management"
   ]
  },
  {
   "cell_type": "markdown",
   "id": "1e2a5d9a-bee1-436c-a8dd-5f64c826379a",
   "metadata": {},
   "source": [
    "Please read the project's README for instructions on how to set up the project's environment on your computer."
   ]
  },
  {
   "cell_type": "code",
   "execution_count": null,
   "id": "89d76a38-2177-4b97-919c-288321443c3f",
   "metadata": {},
   "outputs": [],
   "source": [
    "import sys\n",
    "sys.executable"
   ]
  },
  {
   "cell_type": "markdown",
   "id": "7b3179b0-1064-4846-8919-4ee7f6c08910",
   "metadata": {},
   "source": [
    "## Project Libraries"
   ]
  },
  {
   "cell_type": "code",
   "execution_count": null,
   "id": "0fd9604a-543b-4c25-95d1-2c3988886820",
   "metadata": {},
   "outputs": [],
   "source": [
    "import warnings\n",
    "import numpy as np\n",
    "import pandas as pd\n",
    "import matplotlib.pyplot as plt\n",
    "import seaborn as sns"
   ]
  },
  {
   "cell_type": "markdown",
   "id": "104a0727-e028-4554-b9fd-a47457b93146",
   "metadata": {},
   "source": [
    "## Import the Dataset"
   ]
  },
  {
   "cell_type": "code",
   "execution_count": null,
   "id": "fcbefe6e-275f-42cd-98cf-67543b46d844",
   "metadata": {},
   "outputs": [],
   "source": [
    "filepath = \"original.xlsx\"\n",
    "sheetname = \"Al Bundy\"\n",
    "# Read specific sheet from the Excel file and skip the first 3 rows:\n",
    "df = pd.read_excel(filepath, sheet_name=sheetname, skiprows=3)\n",
    "df.head()"
   ]
  },
  {
   "cell_type": "markdown",
   "id": "fdf55bc4-79f4-43d1-a704-1eb43a515385",
   "metadata": {},
   "source": [
    "## Data Cleaning"
   ]
  },
  {
   "cell_type": "code",
   "execution_count": null,
   "id": "0913a725-05e1-41aa-a382-f172dec5fde8",
   "metadata": {},
   "outputs": [],
   "source": [
    "print(df.info())\n",
    "df.head()"
   ]
  },
  {
   "cell_type": "code",
   "execution_count": null,
   "id": "7c1a369c-5f96-4a62-bed0-2487fccf1413",
   "metadata": {},
   "outputs": [],
   "source": [
    "# Delete the unecessary columns:\n",
    "df = df.drop(columns=[\"Unnamed: 0\", \"Unnamed: 12\", \"Month\", \"Size (US)\", \"Size (UK)\"])\n",
    "\n",
    "# Truncate the datetime to the nearest day, time is unecessary:\n",
    "df[\"Date\"] = df[\"Date\"].dt.floor(\"D\")"
   ]
  },
  {
   "cell_type": "code",
   "execution_count": null,
   "id": "99e8a737-ea86-4370-ad31-3f68de32c802",
   "metadata": {},
   "outputs": [],
   "source": [
    "# Define a function which converts the shoe sizes to single decimal values:\n",
    "def convert_to_decimal(size):\n",
    "    # Make sure the if statement will work treating the input as a strings:\n",
    "    size = str(size)\n",
    "    # Check if the size is a range, instead of a single numerical value:\n",
    "    if \"-\" in size:\n",
    "        # Split this range into low and high values:\n",
    "        low, high = size.split(\"-\")\n",
    "        # Return a single decimal value adding 0.5 at the low value:\n",
    "        return float(int(low) + 0.5)\n",
    "    else:\n",
    "        # If not a range, covert the size to a float and return it:\n",
    "        return float(size)\n",
    "\n",
    "# Apply the above function to the \"Size (Europe)\" column:\n",
    "df[\"Size (Europe)\"] = df[\"Size (Europe)\"].apply(convert_to_decimal)"
   ]
  },
  {
   "cell_type": "code",
   "execution_count": null,
   "id": "05410f43-aaf7-4b97-92dd-430b3b515b2f",
   "metadata": {},
   "outputs": [],
   "source": [
    "df.head()"
   ]
  },
  {
   "cell_type": "markdown",
   "id": "d4288858-ebbf-4583-b079-add2a1498a1c",
   "metadata": {},
   "source": [
    "This is the final, cleaned df."
   ]
  },
  {
   "cell_type": "markdown",
   "id": "628d7566-14f5-4d35-b46b-de66f98f5124",
   "metadata": {},
   "source": [
    "## Descriptive Statistics"
   ]
  },
  {
   "cell_type": "code",
   "execution_count": null,
   "id": "520e5f59-b814-41ec-a4fc-1da542bf2a52",
   "metadata": {},
   "outputs": [],
   "source": [
    "# Group by \"Gender\" keeping specific columns:\n",
    "gender_group_df = df.groupby(\"Gender\")[[\"Date\", \"Size (Europe)\", \"UnitPrice\", \"Discount\", \"SalePrice\"]]\n",
    "\n",
    "# Create a male df:\n",
    "df_male = gender_group_df.get_group(\"Male\")\n",
    "\n",
    "# Create a female df:\n",
    "df_female = gender_group_df.get_group(\"Female\")\n",
    "\n",
    "# Apply describe method to the grouped dfs:\n",
    "summary_stats = gender_group_df.describe().transpose()\n",
    "\n",
    "summary_stats"
   ]
  },
  {
   "cell_type": "code",
   "execution_count": null,
   "id": "05bca581-927d-4fe9-afdd-54d059818de1",
   "metadata": {},
   "outputs": [],
   "source": [
    "# See the correlations between the columns:\n",
    "gender_group_df.corr()"
   ]
  },
  {
   "cell_type": "code",
   "execution_count": null,
   "id": "365ec71d-5fd5-4cbc-bf2c-a29de20af11f",
   "metadata": {},
   "outputs": [],
   "source": [
    "# Ignore the warnings:\n",
    "warnings.filterwarnings(\"ignore\", category=FutureWarning, module=\"seaborn._oldcore\")\n",
    "\n",
    "# Create a figure:\n",
    "plt.figure(figsize=(10, 6))\n",
    "\n",
    "# Create histograms for shoe sizes for males and females:\n",
    "sns.histplot(\n",
    "    data=df_male, \n",
    "    x=\"Size (Europe)\", \n",
    "    alpha=0.4, \n",
    "    bins=np.arange(39, 48, 0.5), \n",
    "    color=\"blue\", \n",
    "    label=\"Male\"\n",
    ")\n",
    "sns.histplot(\n",
    "    data=df_female, \n",
    "    x=\"Size (Europe)\", \n",
    "    alpha=0.4, \n",
    "    bins=np.arange(35, 42.5, 0.5), \n",
    "    color=\"red\", \n",
    "    label=\"Female\"\n",
    ")\n",
    "\n",
    "# Set the title and labels:\n",
    "plt.title(\"Histogram of Shoe Sizes Sales by Gender\")\n",
    "plt.xlabel(\"Shoe Size (Europe)\")\n",
    "plt.ylabel(\"Frequency - Sales\")\n",
    "\n",
    "# Set x-axis to indicate the actual intervals: \n",
    "plt.xticks(np.arange(35, 48, 0.5), rotation=45)\n",
    "\n",
    "# Show the legend:\n",
    "plt.legend();\n",
    "\n",
    "plt.savefig('histogram', dpi=300, bbox_inches='tight')"
   ]
  },
  {
   "cell_type": "markdown",
   "id": "a758449b-b591-44f3-944f-5b1bd509e446",
   "metadata": {},
   "source": [
    "Based on the above histograms, we can assume normality. This provides a good starting point for proceeding to the next part, which concerns the creation of confidence intervals. "
   ]
  },
  {
   "cell_type": "markdown",
   "id": "c694f2a8-fe1d-4bf4-aaf2-f1c5898d0678",
   "metadata": {},
   "source": [
    "## Inferential Statistics  "
   ]
  },
  {
   "cell_type": "markdown",
   "id": "5efe0689-c4fd-444e-86a4-f68e437a0411",
   "metadata": {},
   "source": [
    "This section addresses the main goal of the project. Let's discuss about the dataset ensuring we can make accurate predictions. "
   ]
  },
  {
   "cell_type": "markdown",
   "id": "d258226c-ff15-40d3-8d83-0db7b079345a",
   "metadata": {},
   "source": [
    "The dataset includes 3 years of sales data. This is the sample size for the future predictions. This sample dictates the maximum future period we can forecast, that is, 3 years. However, aiming for a 3-year sale prediction, without multiple 3-year samples is pointless. It's more logical to predict the sales for shorter future periods, such as, 1 year, 3 months and 1 month. These approaches have different sample sizes with $n=3$, $n=12$ and $n=36$ respectively. "
   ]
  },
  {
   "cell_type": "markdown",
   "id": "337522fa-4a35-4a25-ae7c-97dfbb65418e",
   "metadata": {},
   "source": [
    "Since the dataset spans 3-year sales, this is a large sample (Al Bundy's operates for more than 30 years) which allows for the application of the Central Limit Theorem. Consequently, we can assume normality in the data and proceed with the confidence intervals calculations."
   ]
  },
  {
   "cell_type": "markdown",
   "id": "4c786940-ea06-4ec0-a5a5-d46a69702d99",
   "metadata": {},
   "source": [
    "### Data Preprocessing before the Application of Confidence Intervals"
   ]
  },
  {
   "cell_type": "code",
   "execution_count": null,
   "id": "077a38ca-815b-4ca9-bf39-1e34060a7c6a",
   "metadata": {},
   "outputs": [],
   "source": [
    "# Create three copies of the original df, one copy for each approach for males:\n",
    "df_year_male = df_male.copy()\n",
    "df_quarter_male = df_male.copy()\n",
    "df_month_male = df_male.copy()\n",
    "\n",
    "# Adapt the datetimes to each approach:\n",
    "# 1-year adaption\n",
    "df_year_male[\"Date (year)\"] = df_year_male[\"Date\"].dt.year\n",
    "\n",
    "# Delete the old date column:\n",
    "df_year_male = df_year_male.drop(columns=\"Date\")\n",
    "\n",
    "# 3-month adaption\n",
    "df_quarter_male[\"Quarter\"] = (\n",
    "    df_quarter_male[\"Date\"].dt.quarter\n",
    ")  # Keep the quarter of each datetime to a new column.\n",
    "df_quarter_male[\"Year\"] = (\n",
    "    df_quarter_male[\"Date\"].dt.year\n",
    ")  # Keep the year of each datetime to a new column.\n",
    "\n",
    "# Concatenate the quarter with the year columns:\n",
    "df_quarter_male[\"Date (quarter)\"] = (\n",
    "    df_quarter_male[\"Quarter\"].astype(str) + \"-\" + df_quarter_male[\"Year\"].astype(str)\n",
    ")\n",
    "\n",
    "# Delete the rest of the columns:\n",
    "df_quarter_male = df_quarter_male.drop(columns=[\"Quarter\", \"Year\", \"Date\"])\n",
    "\n",
    "# 1-month adaption\n",
    "df_month_male[\"Month\"] = (\n",
    "    df_month_male[\"Date\"].dt.month\n",
    ")  # Keep the month of each datetime to a new column.\n",
    "df_month_male[\"Year\"] = (\n",
    "    df_month_male[\"Date\"].dt.year\n",
    ")  # Keep the year of each datetime to a new column.\n",
    "\n",
    "# Concatenate the month with the year columns:\n",
    "df_month_male[\"Date (month)\"] = (\n",
    "    df_month_male[\"Month\"].astype(str) + \"-\" + df_month_male[\"Year\"].astype(str)\n",
    ")\n",
    "\n",
    "# Delete the rest of the columns:\n",
    "df_month_male = df_month_male.drop(columns=[\"Month\", \"Year\", \"Date\"])"
   ]
  },
  {
   "cell_type": "markdown",
   "id": "c279bbf4-4324-4b75-bbb7-5d7106194343",
   "metadata": {},
   "source": [
    "We wont repeat the same process for women's population because the results will be similar."
   ]
  },
  {
   "cell_type": "markdown",
   "id": "2a7a3764-d2c0-4859-a74f-196e42bcdce7",
   "metadata": {},
   "source": [
    "### Confidence Intervals for 1-year Sales Prediction for Males"
   ]
  },
  {
   "cell_type": "markdown",
   "id": "37ece867-39b7-4fb4-8e7a-6fff05d256a2",
   "metadata": {},
   "source": [
    "##### Key Considerations\n",
    "There is one population with an unknown variance and normality can be assumed."
   ]
  },
  {
   "cell_type": "markdown",
   "id": "b411b3c2-86e6-4e2d-bf77-ae0d91e06d97",
   "metadata": {},
   "source": [
    "##### Calculation of Mean and Standard Deviation per Shoe Size Combining all Years"
   ]
  },
  {
   "cell_type": "code",
   "execution_count": null,
   "id": "ebd5be6f-8bcc-4e0f-a86e-d8eeefca92e6",
   "metadata": {},
   "outputs": [],
   "source": [
    "# Create a df from the shoe size value_counts series:\n",
    "male_sales_per_year = (\n",
    "    df_year_male.groupby([\"Date (year)\", \"Size (Europe)\"]).size().reset_index(name=\"Sales\")\n",
    ")\n",
    "\n",
    "# Calculate the mean and the std per shoe size combining all three years:\n",
    "combined_sales_per_year = (\n",
    "    male_sales_per_year.groupby(\"Size (Europe)\")[\"Sales\"].agg([\"mean\", \"std\"]).reset_index()\n",
    ")\n",
    "\n",
    "# Set a clearer column names:\n",
    "combined_sales_per_year.columns = [\"Size (Europe)\", \"Sales Mean\", \"Sales Standard Deviation\"]"
   ]
  },
  {
   "cell_type": "code",
   "execution_count": null,
   "id": "d0a54d66-88ec-42d6-b6ea-c498088cdefe",
   "metadata": {},
   "outputs": [],
   "source": [
    "# Assign some columns in variables, gaining space afterwards:\n",
    "sizes = combined_sales_per_year[\"Size (Europe)\"]\n",
    "means = combined_sales_per_year[\"Sales Mean\"]\n",
    "std = combined_sales_per_year[\"Sales Standard Deviation\"]"
   ]
  },
  {
   "cell_type": "markdown",
   "id": "ed18e8ac-3a0f-49f6-bdf6-a0eb1c0462d2",
   "metadata": {},
   "source": [
    "##### Calculation of Standard Error for each Shoe Size\n",
    "This is the formula for the standard error of the mean:\n",
    "$$SE_\\bar{x}=\\frac{s}{\\sqrt{n}}$$\n",
    "Where, $s$ is the sample standard deviation and $n$ is the sample size. The sample size, $n$ is 3, then the degrees of freedom, $df$ is 2."
   ]
  },
  {
   "cell_type": "code",
   "execution_count": null,
   "id": "61711cb5-74e4-4cff-969c-4c08482a89fd",
   "metadata": {},
   "outputs": [],
   "source": [
    "# Assign the sample size, n value to a variable:\n",
    "n = 3\n",
    "\n",
    "# Add a new column containing sample size, n, per shoe size:\n",
    "combined_sales_per_year[\"n\"] = n\n",
    "\n",
    "# Add a new column calculating the standard error, SE, per shoe size:\n",
    "combined_sales_per_year[\"Standard Error\"] = std / (combined_sales_per_year[\"n\"]**0.5)\n",
    "\n",
    "print(combined_sales_per_year)"
   ]
  },
  {
   "cell_type": "code",
   "execution_count": null,
   "id": "2f099b5d-7bd7-42b2-bb7e-43496e7e65cb",
   "metadata": {},
   "outputs": [],
   "source": [
    "# Assign some columns in variables, gaining space afterwards:\n",
    "st_error = combined_sales_per_year[\"Standard Error\"]"
   ]
  },
  {
   "cell_type": "markdown",
   "id": "fa59cab7-2c9a-4749-9588-4bf347d63617",
   "metadata": {},
   "source": [
    "##### Calculation of t-statistic\n",
    "Assuming we want to be 95%  confident the next year's sales per shoe size will fall inside our confident interval range, the confident level is $1-α=0.95$, and hence $α=0.05$. The degrees of freedom, $n-1$ equals $3-1=2$, $df=2$. Therefore, we are looking for $t_{2, 0.025}$. From t-distribution table critical values table we can see that $t_{2, 0.025}=4.303$."
   ]
  },
  {
   "cell_type": "code",
   "execution_count": null,
   "id": "3dc5967a-3579-4c7b-adb1-9d1f22c3117b",
   "metadata": {},
   "outputs": [],
   "source": [
    "# Assign the t-statistic value to a variable:\n",
    "t_statistic = 4.303\n",
    "\n",
    "# Create a new column with the margin of error:\n",
    "combined_sales_per_year[\"Margin of Error\"] = t_statistic * st_error"
   ]
  },
  {
   "cell_type": "code",
   "execution_count": null,
   "id": "bae247c8-1772-425a-ad71-c7dcbe3ceb9c",
   "metadata": {},
   "outputs": [],
   "source": [
    "# Assign some columns in variables, gaining space afterwards:\n",
    "mrg_error = combined_sales_per_year[\"Margin of Error\"]"
   ]
  },
  {
   "cell_type": "markdown",
   "id": "f7b0262d-57ac-4b15-9061-834ef7611e1e",
   "metadata": {},
   "source": [
    "##### Calculation of Confidence Intervals"
   ]
  },
  {
   "cell_type": "code",
   "execution_count": null,
   "id": "828a495f-f23f-4fd2-9f98-d35f18e65f73",
   "metadata": {},
   "outputs": [],
   "source": [
    "# Create a new column containing the lower confidence interval for each shoe size:\n",
    "combined_sales_per_year[\"Lower CI\"] = means - mrg_error\n",
    "\n",
    "# Create a new column containing the upper confidence interval for each shoe size:\n",
    "combined_sales_per_year[\"Upper CI\"] = means + mrg_error\n",
    "\n",
    "combined_sales_per_year"
   ]
  },
  {
   "cell_type": "code",
   "execution_count": null,
   "id": "3ccf55b5-aa3e-4d35-9930-b1147c5835e8",
   "metadata": {},
   "outputs": [],
   "source": [
    "# Create the figure:\n",
    "plt.figure(figsize=(12, 8))\n",
    "\n",
    "# Create an errorbar of sizes VS sales mean with errorbars displayed in the y-direction:\n",
    "plt.errorbar(sizes, means, yerr=mrg_error, fmt=\"o-\", capsize=7, color=\"skyblue\", ecolor=\"red\")\n",
    "\n",
    "# Name axis and figure:\n",
    "plt.xlabel(\"Shoe Size (Europe)\")\n",
    "plt.ylabel(\"Sales Mean per Year\")\n",
    "plt.title(\"Sales Mean per Year with 95% Confidence Intervals per Shoe Size\")\n",
    "\n",
    "# Set the tickers and create a grid:\n",
    "plt.xticks(sizes, rotation=45)\n",
    "plt.yticks(np.arange(-150, 1400, 100))\n",
    "plt.grid(axis=\"y\", linestyle=\"--\");\n",
    "\n",
    "plt.savefig('errorbar', dpi=300, bbox_inches='tight')"
   ]
  },
  {
   "cell_type": "markdown",
   "id": "76f51acd-79a2-47c9-a7f2-7a64a0e0dd53",
   "metadata": {},
   "source": [
    "##### Conclusions\n",
    "The results indicate that trying to predict next year's sales to control inventory management is challenging due to huge variability of the data. The wide confidence intervals suggests that sales could vary significantly making precise predictions difficult. Therefore, we 'll try another approach increasing the sample size in order to reduce the margin of error and provide more accurate estimates. "
   ]
  },
  {
   "cell_type": "markdown",
   "id": "dcde33ab-9132-492a-b404-1a4301c3909d",
   "metadata": {},
   "source": [
    "### Confidence Intervals for 3-month Sales Prediction for Males"
   ]
  },
  {
   "cell_type": "markdown",
   "id": "73e9966c-e773-4560-8086-f581a48ccef0",
   "metadata": {},
   "source": [
    "##### Key Considerations\n",
    "There is one population with an unknown variance and normality can be assumed."
   ]
  },
  {
   "cell_type": "markdown",
   "id": "f620d7c1-f04c-4f16-90d9-0cc26444cb16",
   "metadata": {},
   "source": [
    "##### Calculation of Mean and Standard Deviation per Shoe Size Combining all Quarters"
   ]
  },
  {
   "cell_type": "code",
   "execution_count": null,
   "id": "f8e51591-97b2-4f61-af9c-f7f8f21c1cda",
   "metadata": {},
   "outputs": [],
   "source": [
    "# Create a df from the shoe size value_counts series:\n",
    "male_sales_per_quarter = (\n",
    "    df_quarter_male.groupby([\"Date (quarter)\", \"Size (Europe)\"]).size().reset_index(name=\"Sales\")\n",
    ")\n",
    "\n",
    "# male_sales_per_quarter should produce 180 results (15 shoe sizes * 4 quarters * 3 years).\n",
    "# However, there wasn't any sale of 46 shoe size during the first quarter of 2014 (1-2014).\n",
    "# Create the missing observation:\n",
    "missing_observation = pd.DataFrame([{\"Date (quarter)\": \"1-2014\", \"Size (Europe)\": 46.0, \"Sales\": 0}])\n",
    "\n",
    "# Append the missing observation to the df:\n",
    "male_sales_per_quarter = pd.concat([male_sales_per_quarter, missing_observation], ignore_index=True)\n",
    "\n",
    "# Sort by \"Date (quarter)\" and \"Size (Europe)\" to maintain order:\n",
    "male_sales_per_quarter = (\n",
    "    male_sales_per_quarter.sort_values([\"Date (quarter)\", \"Size (Europe)\"]).reset_index(drop=True)\n",
    ")\n",
    "\n",
    "# Calculate the mean and the std per shoe size combining all three years:\n",
    "combined_sales_per_quarter = (\n",
    "    male_sales_per_quarter.groupby(\"Size (Europe)\")[\"Sales\"].agg([\"mean\", \"std\"]).reset_index()\n",
    ")\n",
    "\n",
    "# Set a clearer column names:\n",
    "combined_sales_per_quarter.columns = [\"Size (Europe)\", \"Sales Mean\", \"Sales Standard Deviation\"]"
   ]
  },
  {
   "cell_type": "code",
   "execution_count": null,
   "id": "7f9d4f83-d460-4071-950b-e48534aab828",
   "metadata": {},
   "outputs": [],
   "source": [
    "# Assign some columns in variables, gaining space afterwards:\n",
    "sizes = combined_sales_per_quarter[\"Size (Europe)\"]\n",
    "means = combined_sales_per_quarter[\"Sales Mean\"]\n",
    "std = combined_sales_per_quarter[\"Sales Standard Deviation\"]"
   ]
  },
  {
   "cell_type": "markdown",
   "id": "cfae494a-4f9f-47e7-ba3a-abf1f9eb4c8c",
   "metadata": {},
   "source": [
    "##### Calculation of Standard Error for each Shoe Size"
   ]
  },
  {
   "cell_type": "code",
   "execution_count": null,
   "id": "fe75f81d-012d-4e53-b867-26e6992228b7",
   "metadata": {},
   "outputs": [],
   "source": [
    "# Assign the sample size, n to a variable:\n",
    "n = 12\n",
    "\n",
    "# Add a new column containing sample size, n, per shoe size:\n",
    "combined_sales_per_quarter[\"n\"] = n\n",
    "\n",
    "# Add a new column containing the standard error, SE, per shoe size:\n",
    "combined_sales_per_quarter[\"Standard Error\"] = std / (combined_sales_per_quarter[\"n\"]**0.5)\n",
    "\n",
    "print(combined_sales_per_quarter)"
   ]
  },
  {
   "cell_type": "code",
   "execution_count": null,
   "id": "31330da9-b7f9-41bd-bd47-0d1ddf54da73",
   "metadata": {},
   "outputs": [],
   "source": [
    "# Assign some columns in variables, gaining space afterwards:\n",
    "st_error = combined_sales_per_quarter[\"Standard Error\"]"
   ]
  },
  {
   "cell_type": "markdown",
   "id": "7550ed5b-99bc-4532-a100-9d129143e98f",
   "metadata": {},
   "source": [
    "##### Calculation of t-statistic\n",
    "Assuming we want to be 95% confident the next quarter's sales per shoe size will fall inside our confident interval range, the confident level is $1-α=0.95$, and hence $α=0.05$. The degrees of freedom, $n-1$ equals $12-1=11$, $df=11$. Therefore, we are looking for $t_{11, 0.025}$. From t-distribution table critical values table we can see that $t_{11, 0.025}=2.201$."
   ]
  },
  {
   "cell_type": "code",
   "execution_count": null,
   "id": "085e4661-1dfb-458a-8018-a51c4c9c3499",
   "metadata": {},
   "outputs": [],
   "source": [
    "# Assign the t-statistic value to a variable:\n",
    "t_statistic = 2.201\n",
    "\n",
    "# Create a new column with the margin of error:\n",
    "combined_sales_per_quarter[\"Margin of Error\"] = t_statistic * st_error"
   ]
  },
  {
   "cell_type": "code",
   "execution_count": null,
   "id": "b806ba05-391e-4480-931c-8db8c58f1a30",
   "metadata": {},
   "outputs": [],
   "source": [
    "# Assign some columns in variables, gaining space afterwards:\n",
    "mrg_error = combined_sales_per_quarter[\"Margin of Error\"]"
   ]
  },
  {
   "cell_type": "markdown",
   "id": "e32852e2-358f-4cae-9a81-ee7380c17b0c",
   "metadata": {},
   "source": [
    "##### Calculation of Confidence Intervals"
   ]
  },
  {
   "cell_type": "code",
   "execution_count": null,
   "id": "38ce366a-46de-4f98-80f7-20e133f1bb0d",
   "metadata": {},
   "outputs": [],
   "source": [
    "# Create a new column containing the lower confidence interval for each shoe size:\n",
    "combined_sales_per_quarter[\"Lower CI\"] = means - mrg_error\n",
    "\n",
    "# Create a new column containing the upper confidence interval for each shoe size:\n",
    "combined_sales_per_quarter[\"Upper CI\"] = means + mrg_error\n",
    "\n",
    "combined_sales_per_quarter"
   ]
  },
  {
   "cell_type": "code",
   "execution_count": null,
   "id": "f6e73df9-c1cc-4e23-8230-fce3bba4d49d",
   "metadata": {},
   "outputs": [],
   "source": [
    "# Create the figure:\n",
    "plt.figure(figsize=(12, 8))\n",
    "\n",
    "# Create an errorbar of sizes VS sales mean with errorbars displayed in the y-direction:\n",
    "plt.errorbar(sizes, means, yerr=mrg_error, fmt=\"o-\", capsize=7, color=\"skyblue\", ecolor=\"red\")\n",
    "\n",
    "# Name axis and figure:\n",
    "plt.xlabel(\"Shoe Size (Europe)\")\n",
    "plt.ylabel(\"Sales Mean per Quarter\")\n",
    "plt.title(\"Sales Mean per Quarter with 95% Confidence Intervals per Shoe Size\")\n",
    "\n",
    "# Set the tickers and create a grid:\n",
    "plt.xticks(sizes, rotation=45)\n",
    "plt.yticks(np.arange(0, 225, 25))\n",
    "plt.grid(axis=\"y\", linestyle=\"--\");\n",
    "\n",
    "plt.savefig('errorbar2', dpi=300, bbox_inches='tight')"
   ]
  },
  {
   "cell_type": "markdown",
   "id": "f8e41c5c-ad13-4434-9df5-6f1f59368660",
   "metadata": {},
   "source": [
    "##### Conclusions\n",
    "The CIs for the quarterly data are narrower compared to the yearly data. This suggests that the increased sample size, $n=12$, has successfully reduced the margin of error, resulting in more precise estimates. However, some shoe sizes, such as 42 and 42.5 still exhibit a relatively high margin of error indicating higher variability in sales for these sizes even for a quarterly prediction. The margin of error for most sizes are small, showing that these specific estimates are more reliable. For instance, size 46 has a lower CI of 4.29 and an upper CI of 10.21, which is a very good improvement over the previous yearly examination."
   ]
  },
  {
   "cell_type": "markdown",
   "id": "cc94daee-b0eb-478a-950e-ad7d69a9f289",
   "metadata": {},
   "source": [
    "### Confidence Intervals for 1-month Sales Prediction for Males Using t-statistic"
   ]
  },
  {
   "cell_type": "markdown",
   "id": "5d32f23c-444e-4ca1-95b4-8cb54515b04f",
   "metadata": {},
   "source": [
    "##### Key Considerations\n",
    "There is one population with an unknown variance and normality can be assumed."
   ]
  },
  {
   "cell_type": "markdown",
   "id": "e02144bc-c038-40e4-9617-dd1885fa06ec",
   "metadata": {},
   "source": [
    "##### Calculation of Mean and Standard Deviation per Shoe Size Combining all Months\n",
    "We won't present the whole code in one cell because data modifications are necessary for this approach. Specifically, the df below (\"males_sales_per_month\") should yield 540 results (15 shoe sizes * 12 months * 3 years). However, there are only 514 results, meaning there are zero sales of specific sizes at certain months. These zero sales are treated as missing values by Pandas. Therefore, we have to address this issue before proceeding further."
   ]
  },
  {
   "cell_type": "code",
   "execution_count": null,
   "id": "4943df7c-b76b-4285-b6e2-23ef4d8a3143",
   "metadata": {},
   "outputs": [],
   "source": [
    "# Create a df from the shoe size value_counts series:\n",
    "male_sales_per_month = (\n",
    "    df_month_male.groupby([\"Date (month)\", \"Size (Europe)\"])\n",
    "    .size()\n",
    "    .reset_index(name=\"Sales\")\n",
    ")\n",
    "\n",
    "print(len(male_sales_per_month))"
   ]
  },
  {
   "cell_type": "markdown",
   "id": "e0c54110-1dcf-4790-a2ec-f3629f1d4183",
   "metadata": {},
   "source": [
    "One solution to this problem is to create a pivot table df, setting \"Date (month)\" as an index, the value_counts of \"Size (Europe)\" as columns, \"Sales\" as the df values, and finally filling the missing values with zeros."
   ]
  },
  {
   "cell_type": "code",
   "execution_count": null,
   "id": "5061e0f7-c29b-42e3-8697-b5af3e41c561",
   "metadata": {},
   "outputs": [],
   "source": [
    "# Create the pivot table as described above filling the missing values with zeros:\n",
    "dummy_table = (\n",
    "    male_sales_per_month.pivot_table(\n",
    "        index=\"Date (month)\", columns=\"Size (Europe)\", values=\"Sales\", fill_value=0\n",
    "    )\n",
    ")"
   ]
  },
  {
   "cell_type": "code",
   "execution_count": null,
   "id": "7849272f-9f2a-485a-9cd2-5592eeaa9f8c",
   "metadata": {},
   "outputs": [],
   "source": [
    "# Reset index to make \"Date (month)\" a column again:\n",
    "male_sales_per_month = dummy_table.reset_index()"
   ]
  },
  {
   "cell_type": "markdown",
   "id": "bf4b3c9f-60d4-4388-b801-0d52ad84545b",
   "metadata": {},
   "source": [
    "To revert the pivot process, we 'll apply the melt() method to unpivot the df and making it as it originally was. The variable which should be converted is \"Size (Europe)\" while we need to add all \"Sales\" values under the \"Size (Europe)\" columns and display the result into a single column. Additionally, \"Date (month)\" should play the role of the identifier column."
   ]
  },
  {
   "cell_type": "code",
   "execution_count": null,
   "id": "8d3f74ad-7921-4f1a-814d-19f1ebd713e4",
   "metadata": {},
   "outputs": [],
   "source": [
    "# Unpivot the df converting columns into rows:\n",
    "male_sales_per_month = (\n",
    "    male_sales_per_month.melt(\n",
    "        id_vars=\"Date (month)\", var_name=\"Size (Europe)\", value_name=\"Sales\"\n",
    "    )\n",
    ")"
   ]
  },
  {
   "cell_type": "code",
   "execution_count": null,
   "id": "38b169a9-1d5a-4fb0-9699-c69f8dfd09c2",
   "metadata": {},
   "outputs": [],
   "source": [
    "# Sort the DataFrame by month and shoe size and fix the index:\n",
    "male_sales_per_month = (\n",
    "    male_sales_per_month.sort_values(\n",
    "        by=[\"Date (month)\", \"Size (Europe)\"]\n",
    "    )\n",
    "    .reset_index(drop=True)\n",
    ")"
   ]
  },
  {
   "cell_type": "markdown",
   "id": "ef095d38-f951-4dfd-a0d8-ce7e22a47902",
   "metadata": {},
   "source": [
    "At this point, the result is exactly the same with the original one, having the missing values filled with zeros (540 observations). We can now proceed calculating the mean and the standard deviation."
   ]
  },
  {
   "cell_type": "code",
   "execution_count": null,
   "id": "bba9cc50-9c2b-42ac-9276-8b470efaaeea",
   "metadata": {},
   "outputs": [],
   "source": [
    "print(len(male_sales_per_month))"
   ]
  },
  {
   "cell_type": "code",
   "execution_count": null,
   "id": "29ff4b20-14d1-43ad-8767-576486152f4c",
   "metadata": {},
   "outputs": [],
   "source": [
    "# Calculate the mean and the std per shoe size combining all three years:\n",
    "combined_sales_per_month = (\n",
    "    male_sales_per_month.groupby(\"Size (Europe)\")[\"Sales\"]\n",
    "    .agg([\"mean\", \"std\"])\n",
    "    .reset_index()\n",
    ")\n",
    "\n",
    "# Set a clearer column names:\n",
    "combined_sales_per_month.columns = [\"Size (Europe)\", \"Sales Mean\", \"Sales Standard Deviation\"]"
   ]
  },
  {
   "cell_type": "code",
   "execution_count": null,
   "id": "13a098a8-bab4-421d-8f21-a8489a197f33",
   "metadata": {},
   "outputs": [],
   "source": [
    "# Assign some columns to variables, gaining space afterwards:\n",
    "sizes = combined_sales_per_month[\"Size (Europe)\"]\n",
    "means = combined_sales_per_month[\"Sales Mean\"]\n",
    "std = combined_sales_per_month[\"Sales Standard Deviation\"]"
   ]
  },
  {
   "cell_type": "markdown",
   "id": "4d388283-1e4a-44d1-9374-9435a5a48648",
   "metadata": {},
   "source": [
    "##### Calculation of Standard Error for each Shoe Size"
   ]
  },
  {
   "cell_type": "code",
   "execution_count": null,
   "id": "7af322ab-c9c9-4553-b3d4-c5183a67058a",
   "metadata": {},
   "outputs": [],
   "source": [
    "# Assign the sample size, n to a variable:\n",
    "n = 36\n",
    "\n",
    "# Add a new column containing sample size, n, per shoe size:\n",
    "combined_sales_per_month[\"n\"] = n\n",
    "\n",
    "# Add a new column containing the standard error, SE, per shoe size:\n",
    "combined_sales_per_month[\"Standard Error\"] = std / (combined_sales_per_month[\"n\"]**0.5)\n",
    "\n",
    "print(combined_sales_per_month)"
   ]
  },
  {
   "cell_type": "code",
   "execution_count": null,
   "id": "f0485c14-11be-4d8f-9ec6-bf9e75855a90",
   "metadata": {},
   "outputs": [],
   "source": [
    "# Assign some columns in variables, gaining space afterwards:\n",
    "st_error = combined_sales_per_month[\"Standard Error\"]"
   ]
  },
  {
   "cell_type": "markdown",
   "id": "9a055f91-7dcc-4275-9ffb-d4e275d6d002",
   "metadata": {},
   "source": [
    "##### Calculation of t-statistic\n",
    "The sample size, $n$, equals $36$ which is greater than $30$. This implies that the standard deviations derived from these observations may effectively represent the population's standard deviations. While either the z-statistic or the t-statistic choice could yield similar results we 'll choose the t-statistic."
   ]
  },
  {
   "cell_type": "markdown",
   "id": "1035e467-30b9-471c-a354-dc554d43989d",
   "metadata": {},
   "source": [
    "Assuming we want to be 95% confident the next month's sales per shoe size will fall inside our confident interval range, the confident level is $1-α=0.95$, and hence $α=0.05$. The degrees of freedom, $n-1$ equals $36-1=35$, $df=35$. Therefore, we are looking for $t_{35, 0.025}$. From t-distribution table critical values table we can see that $t_{35, 0.025}=2.03$, while the corresponding z-statistic value is $1.96$."
   ]
  },
  {
   "cell_type": "code",
   "execution_count": null,
   "id": "01d74fa0-1334-4c16-8866-7daf762068c4",
   "metadata": {},
   "outputs": [],
   "source": [
    "# Assign the t-statistic value to a variable:\n",
    "t_statistic = 2.03\n",
    "\n",
    "# Create a new column with the margin of error:\n",
    "combined_sales_per_month[\"Margin of Error\"] = t_statistic * st_error"
   ]
  },
  {
   "cell_type": "code",
   "execution_count": null,
   "id": "53af3d12-baf0-4229-86c5-985175e1efa0",
   "metadata": {},
   "outputs": [],
   "source": [
    "# Assign some columns in variables, gaining space afterwards:\n",
    "mrg_error = combined_sales_per_month[\"Margin of Error\"]"
   ]
  },
  {
   "cell_type": "markdown",
   "id": "3b938f22-dc53-483d-b16b-5edc2c1d3923",
   "metadata": {},
   "source": [
    "##### Calculation of Confidence Intervals"
   ]
  },
  {
   "cell_type": "code",
   "execution_count": null,
   "id": "df099bae-c983-4386-bcd8-a18c131c52c8",
   "metadata": {},
   "outputs": [],
   "source": [
    "# Create a new column containing the lower confidence interval for each shoe size:\n",
    "combined_sales_per_month[\"Lower CI\"] = means - mrg_error\n",
    "\n",
    "# Create a new column containing the upper confidence interval for each shoe size:\n",
    "combined_sales_per_month[\"Upper CI\"] = means + mrg_error\n",
    "\n",
    "combined_sales_per_month"
   ]
  },
  {
   "cell_type": "code",
   "execution_count": null,
   "id": "1e8a6b23-ec2b-440e-8d65-22b3c9eb1963",
   "metadata": {},
   "outputs": [],
   "source": [
    "# Create the figure:\n",
    "plt.figure(figsize=(12, 8))\n",
    "\n",
    "# Create an errorbar of sizes VS sales mean with errorbars displayed in the y-direction:\n",
    "plt.errorbar(sizes, means, yerr=mrg_error, fmt=\"o-\", capsize=7, color=\"skyblue\", ecolor=\"red\")\n",
    "\n",
    "# Name axis and figure:\n",
    "plt.xlabel(\"Shoe Size (Europe)\")\n",
    "plt.ylabel(\"Sales Mean per Month\")\n",
    "plt.title(\"Sales Mean per Month with 95% Confidence Intervals per Shoe Size\")\n",
    "\n",
    "# Set the tickers and create a grid:\n",
    "plt.xticks(sizes, rotation=45)\n",
    "plt.yticks(np.arange(0, 60, 5))\n",
    "plt.grid(axis=\"y\", linestyle=\"--\");\n",
    "\n",
    "plt.savefig('errorbar3', dpi=300, bbox_inches='tight')"
   ]
  },
  {
   "cell_type": "markdown",
   "id": "4ad7ee08-9b13-489a-bb76-a97236c4e7a4",
   "metadata": {},
   "source": [
    "##### Conclusions\n",
    "Compared to the yearly and quarterly data, the monthly data shows significantly narrower confidence intervals. This indicates a higher precision in estimating the next month's sales for each shoe size. The increased sample size (n = 36) has effectively reduced the margin of error, leading to more reliable estimates. For example, size 42.5 has a lower CI of 45.17 and an upper CI of 59.83, which is much narrower compared to previous intervals."
   ]
  },
  {
   "cell_type": "markdown",
   "id": "c5c861b0-a2ca-4ece-95dc-1c8ac909d377",
   "metadata": {},
   "source": [
    "### Confidence Intervals for 1-month Sales Prediction for Males Using z-statistic\n",
    "Assuming the sample size is sufficiently large to accurate give the true standard deviations, then $σ=s$. Based on this assumption, the process of calculating the CIs using the z-statistic should be similar to the corresponding one, using the t-statistic. Let's examine the results."
   ]
  },
  {
   "cell_type": "code",
   "execution_count": null,
   "id": "94ba114d-db8d-4353-b5fb-73c7318c3f4a",
   "metadata": {},
   "outputs": [],
   "source": [
    "# Assign the z-statistic value to a variable:\n",
    "z_statistic = 1.96\n",
    "\n",
    "# Create a new column with the margin of error:\n",
    "combined_sales_per_month[\"Margin of Error (z-stat)\"] = z_statistic * st_error"
   ]
  },
  {
   "cell_type": "code",
   "execution_count": null,
   "id": "92d93347-fae5-4d65-a23b-54c922da465b",
   "metadata": {},
   "outputs": [],
   "source": [
    "# Assign some columns in variables, gaining space afterwards:\n",
    "mrg_error = combined_sales_per_month[\"Margin of Error (z-stat)\"]"
   ]
  },
  {
   "cell_type": "code",
   "execution_count": null,
   "id": "cb0ae0bc-637e-4681-be66-96c2dd157204",
   "metadata": {},
   "outputs": [],
   "source": [
    "# Create a new column containing the lower confidence interval for each shoe size:\n",
    "combined_sales_per_month[\"Lower CI (z-stat)\"] = means - mrg_error\n",
    "\n",
    "# Create a new column containing the upper confidence interval for each shoe size:\n",
    "combined_sales_per_month[\"Upper CI (z-stat)\"] = means + mrg_error\n",
    "\n",
    "combined_sales_per_month"
   ]
  },
  {
   "cell_type": "markdown",
   "id": "69aaf23f-4b22-4ae1-8049-55217d956b34",
   "metadata": {},
   "source": [
    "##### Conclusions for Monthly Sales Using the z-statistic\n",
    "The obtained results are almost equal to those derived from the t-statistic approach, as anticipated. While both methods yield very similar results, we 'll avoide making the additional assumption required for applying z-statistic, and hence we 'll pick t-statistic approach."
   ]
  },
  {
   "cell_type": "markdown",
   "id": "a084a4de-6be4-457f-896c-0b5a699d11d2",
   "metadata": {},
   "source": [
    "## Inventory Management Conclusions\n",
    "Assuming I am the manager of Al Bundy's owing this exact dataset, my primary focus would be the monthly sales data. However, taking into account only the monthly data has a risk of information overload. For example, having some customers who buy exceptionally large stocks only once or twice per year might lead to inventory management problems during those months. Therefore, it would be crucial to \"see\" less information adopting a quarterly or 6-month approach in order to better \"catch\" these large stocks trends. Nevertheless, assuming that there are limitations over the purchase of excessively large quantities of shoes, the monthly sales data are a good option for effective inventory management. The upper limits of monthly sales confidence intervals serve as reliable production targets, ensuring the store maintains enough stock levels and minimizes the risk of losing a sale due to zero inventory of specific shoe models."
   ]
  }
 ],
 "metadata": {
  "kernelspec": {
   "display_name": "Python 3 (ipykernel)",
   "language": "python",
   "name": "python3"
  },
  "language_info": {
   "codemirror_mode": {
    "name": "ipython",
    "version": 3
   },
   "file_extension": ".py",
   "mimetype": "text/x-python",
   "name": "python",
   "nbconvert_exporter": "python",
   "pygments_lexer": "ipython3",
   "version": "3.11.9"
  }
 },
 "nbformat": 4,
 "nbformat_minor": 5
}
